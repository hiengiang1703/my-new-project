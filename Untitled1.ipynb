{
 "cells": [
  {
   "cell_type": "code",
   "execution_count": 1,
   "id": "5d5a9c48",
   "metadata": {},
   "outputs": [
    {
     "name": "stdout",
     "output_type": "stream",
     "text": [
      "\n",
      "*******************************\n",
      "* Name: NGUYEN HIEN GIANG     *\n",
      "* Date of birth: 17/03/1999   *\n",
      "* Address: Ho ChiMi\n",
      "* Center: CodeGym             *\n",
      "* Course: Python Fundamental  *\n",
      "*******************************\n"
     ]
    }
   ],
   "source": [
    "print(\"\"\"\n",
    "*******************************\n",
    "* Name: NGUYEN HIEN GIANG     *\n",
    "* Date of birth: 17/03/1999   *\n",
    "* Address: Ho Chi Minh        *\n",
    "* Center: CodeGym             *\n",
    "* Course: Python Fundamental  *\n",
    "*******************************\"\"\")"
   ]
  },
  {
   "cell_type": "code",
   "execution_count": null,
   "id": "eacb01af",
   "metadata": {},
   "outputs": [],
   "source": []
  }
 ],
 "metadata": {
  "kernelspec": {
   "display_name": "Python 3",
   "language": "python",
   "name": "python3"
  },
  "language_info": {
   "codemirror_mode": {
    "name": "ipython",
    "version": 3
   },
   "file_extension": ".py",
   "mimetype": "text/x-python",
   "name": "python",
   "nbconvert_exporter": "python",
   "pygments_lexer": "ipython3",
   "version": "3.6.7rc1"
  }
 },
 "nbformat": 4,
 "nbformat_minor": 5
}
